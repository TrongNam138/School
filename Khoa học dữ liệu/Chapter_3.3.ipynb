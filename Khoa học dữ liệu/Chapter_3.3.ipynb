{
 "cells": [
  {
   "cell_type": "code",
   "execution_count": 1,
   "id": "71d5c1ac",
   "metadata": {},
   "outputs": [
    {
     "name": "stdout",
     "output_type": "stream",
     "text": [
      "Nhập họ và tên: tran trong nam\n",
      "Nhập nhập năm sinh: 2003\n",
      "\n",
      "Bạn \"TRAN TRONG NAM\" năm nay 20 tuổi!\n"
     ]
    }
   ],
   "source": [
    "# Viết hàm greeting\n",
    "\n",
    "from datetime import date\n",
    "\n",
    "def greeting(fullname, birthYear):\n",
    "    age = date.today().year - birthYear\n",
    "    print('\\nBạn \"{}\" năm nay {} tuổi!'.format(fullName.upper(), str(age)))\n",
    "\n",
    "fullName = input('Nhập họ và tên: ')\n",
    "birthYear = int(input('Nhập nhập năm sinh: '))\n",
    "\n",
    "greeting(fullName, birthYear)\n",
    "\n"
   ]
  },
  {
   "cell_type": "code",
   "execution_count": 2,
   "id": "7e2bcd3f",
   "metadata": {},
   "outputs": [
    {
     "name": "stdout",
     "output_type": "stream",
     "text": [
      "Nhập số tháng: 3\n",
      "\n",
      "Sau 3 trong rừng sẽ có 16 con thỏ\n"
     ]
    }
   ],
   "source": [
    "# Viết hàm rabbit_count\n",
    "\n",
    "def rabbit_count(month):\n",
    "    print('\\nSau {} trong rừng sẽ có {} con thỏ'.format(str(month), str(rabbits ** (month + 1))))\n",
    "\n",
    "rabbits = 2\n",
    "month = int(input('Nhập số tháng: '))\n",
    "\n",
    "rabbit_count(month)"
   ]
  },
  {
   "cell_type": "code",
   "execution_count": 4,
   "id": "0403174c",
   "metadata": {},
   "outputs": [
    {
     "name": "stdout",
     "output_type": "stream",
     "text": [
      "---------------- THỐNG KÊ ----------------\n",
      "1. Tổng số học sinh trong lớp:  15\n",
      "2. Số học sinh phải học lại:  3\n"
     ]
    }
   ],
   "source": [
    "# Viết hàm count_mark\n",
    "\n",
    "def count_mark(scores):\n",
    "    print('1. Tổng số học sinh trong lớp: ', len(scores))\n",
    "    print('2. Số học sinh phải học lại: ', scores.count('F'))\n",
    "\n",
    "print('---------------- THỐNG KÊ ----------------')\n",
    "count_mark(['C', 'B', 'D' ,'A' ,'F', 'A', 'B', 'F' , 'B', 'B', 'C', 'A', 'D', 'F', 'B'])\n"
   ]
  },
  {
   "cell_type": "code",
   "execution_count": 5,
   "id": "e37f5632",
   "metadata": {},
   "outputs": [
    {
     "name": "stdout",
     "output_type": "stream",
     "text": [
      "Nhập cân nặng (Kg): 65\n",
      "Nhập chiều cao (M): 1.7\n",
      "Chào người đẹp!\n"
     ]
    }
   ],
   "source": [
    "# Viết hàm bmi_show\n",
    "\n",
    "def bmi_show(weight, height):\n",
    "    BMI = weight / (height ** 2)\n",
    "\n",
    "    if(BMI < 18.5):\n",
    "        print('Bạn hơi gầy rồi đó!')\n",
    "    elif(BMI < 24.9):\n",
    "        print('Chào người đẹp!')\n",
    "    elif(BMI < 29.9):\n",
    "        print('Hơi péo rồi nha!')\n",
    "    else:\n",
    "        print('Péo quá rồi, giảm cân thôi!')\n",
    "\n",
    "weight = float(input('Nhập cân nặng (Kg): '))\n",
    "height = float(input('Nhập chiều cao (M): '))\n",
    "\n",
    "bmi_show(weight, height)"
   ]
  },
  {
   "cell_type": "code",
   "execution_count": 6,
   "id": "35b7da1f",
   "metadata": {},
   "outputs": [
    {
     "name": "stdout",
     "output_type": "stream",
     "text": [
      "\n",
      "----------- ĐIỂM TRUNG BÌNH -----------\n",
      "ĐTB hệ 10:  7.044444444444444\n",
      "ĐTB hệ 4:  2.7222222222222223\n"
     ]
    }
   ],
   "source": [
    "# Viết hàm cal_point\n",
    "\n",
    "def cal_point(h10):\n",
    "    \n",
    "    h4 = []\n",
    "\n",
    "    for d in h10:\n",
    "        if d >= 9:\n",
    "            h4.append(4.0)\n",
    "        elif d >= 8.5:\n",
    "            h4.append(3.7)\n",
    "        elif d >= 8.0:\n",
    "            h4.append(3.5)\n",
    "        elif d >= 7.0:\n",
    "            h4.append(3.0)\n",
    "        elif d >= 6.5:\n",
    "            h4.append(2.5)\n",
    "        elif d >= 5.5:\n",
    "            h4.append(2.0)\n",
    "        elif d >= 5.0:\n",
    "            h4.append(1.5)\n",
    "        elif d >= 4.0:\n",
    "            h4.append(1.0)\n",
    "        else:\n",
    "            h4.append(0)\n",
    "\n",
    "    print('\\n----------- ĐIỂM TRUNG BÌNH -----------')\n",
    "    print('ĐTB hệ 10: ', sum(h10) / len(h10))\n",
    "    print('ĐTB hệ 4: ', sum(h4) / len(h4))\n",
    "\n",
    "cal_point([8.4, 6.5, 7.3, 2.6, 9.0, 5.8, 6.0, 9.7, 8.1])"
   ]
  },
  {
   "cell_type": "code",
   "execution_count": 7,
   "id": "98cc7968",
   "metadata": {},
   "outputs": [
    {
     "name": "stdout",
     "output_type": "stream",
     "text": [
      "Nhập một số nguyên dương lớn hơn 1: 0\n",
      "Nhập một số nguyên dương lớn hơn 1: 10\n",
      "Các số nguyên tố từ 1 đến 10: [2, 3, 5, 7]\n"
     ]
    }
   ],
   "source": [
    "# Viết hàm list_prime\n",
    "\n",
    "def list_prime(n):\n",
    "    pns = []\n",
    "\n",
    "    for i in range(2, n + 1):\n",
    "        isPrime = True\n",
    "\n",
    "        for j in range(2, i):\n",
    "            if (i % j) == 0:\n",
    "                isPrime = False\n",
    "                break\n",
    "\n",
    "        if isPrime:\n",
    "            pns.append(i)\n",
    "\n",
    "    print('Các số nguyên tố từ 1 đến {}: {}'.format(n, pns))\n",
    "\n",
    "while True:\n",
    "    n = int(input('Nhập một số nguyên dương lớn hơn 1: '))\n",
    "    if n > 1:\n",
    "        break\n",
    "\n",
    "list_prime(n)"
   ]
  },
  {
   "cell_type": "code",
   "execution_count": 14,
   "id": "aeaac611",
   "metadata": {},
   "outputs": [
    {
     "name": "stdout",
     "output_type": "stream",
     "text": [
      "Tôi tên là: Trần Trọng Nam - Dân tộc Kinh \n",
      "Tôi sinh năm 2003. Rất vui được làm quen với bạn!\n",
      "Chỉ số BMI:  22.49134948096886\n"
     ]
    }
   ],
   "source": [
    "# Xây dựng lớp person và kế thừa lớp Việt Nam\n",
    "\n",
    "from datetime import date\n",
    "\n",
    "class Person: \n",
    "    def __init__(self, fullname, birthYear, height, weight):\n",
    "        self.fullname = fullname\n",
    "        self.birthYear = birthYear\n",
    "        self.height = height\n",
    "        self.weight= weight\n",
    "    \n",
    "    def Geeting(self):\n",
    "        age = date.today().year - self.birthYear\n",
    "        print('My name is {} \\nI am {} years old. Nice to meet you!'.format(self.fullname, str(age)))\n",
    "    \n",
    "    def Bmi(self):\n",
    "        return self.weight / (self.height ** 2)\n",
    "    \n",
    "class Vietnam(Person):\n",
    "    def __init__(self, fullname, birthYear, height, weight, nation):\n",
    "        super().__init__(fullname, birthYear, height, weight)\n",
    "        self.nation = nation\n",
    "    \n",
    "    def Geeting(self):\n",
    "        print('Tôi tên là: {} - Dân tộc {} \\nTôi sinh năm {}. Rất vui được làm quen với bạn!'.format(self.fullname, self.nation, self.birthYear))\n",
    "        \n",
    "\n",
    "p1 = Vietnam('Trần Trọng Nam', 2003, 1.7, 65, 'Kinh')\n",
    "\n",
    "p1.Geeting()\n",
    "print('Chỉ số BMI: ', p1.Bmi())\n"
   ]
  },
  {
   "cell_type": "code",
   "execution_count": null,
   "id": "669a70cd",
   "metadata": {},
   "outputs": [],
   "source": []
  }
 ],
 "metadata": {
  "kernelspec": {
   "display_name": "Python 3 (ipykernel)",
   "language": "python",
   "name": "python3"
  },
  "language_info": {
   "codemirror_mode": {
    "name": "ipython",
    "version": 3
   },
   "file_extension": ".py",
   "mimetype": "text/x-python",
   "name": "python",
   "nbconvert_exporter": "python",
   "pygments_lexer": "ipython3",
   "version": "3.11.5"
  }
 },
 "nbformat": 4,
 "nbformat_minor": 5
}
