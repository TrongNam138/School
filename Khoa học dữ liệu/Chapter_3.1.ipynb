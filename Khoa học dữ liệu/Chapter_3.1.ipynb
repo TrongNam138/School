{
 "cells": [
  {
   "cell_type": "code",
   "execution_count": 9,
   "id": "f818f876",
   "metadata": {
    "scrolled": false
   },
   "outputs": [
    {
     "name": "stdout",
     "output_type": "stream",
     "text": [
      "Nhập tổng số kẹo: 8\n",
      "Nhập tổng số học sinh: 5\n",
      "\n",
      "Mỗi học sinh được nhận được 1 cái kẹo\n",
      "Cô giáo còn lại  3 cái kẹo\n"
     ]
    }
   ],
   "source": [
    "# Chia kẹo\n",
    "candies = int(input('Nhập tổng số kẹo: '))\n",
    "students = int(input('Nhập tổng số học sinh: '))\n",
    "\n",
    "each = int(candies / students)\n",
    "\n",
    "print('\\nMỗi học sinh được nhận được', each, 'cái kẹo')\n",
    "print('Cô giáo còn lại ', candies - each * students, 'cái kẹo')\n",
    "\n"
   ]
  },
  {
   "cell_type": "code",
   "execution_count": 18,
   "id": "69f30605",
   "metadata": {},
   "outputs": [
    {
     "name": "stdout",
     "output_type": "stream",
     "text": [
      "Nhập họ và tên: tran trong nam\n",
      "Nhập nhập năm sinh: 2000\n",
      "\n",
      "Bạn \"TRAN TRONG NAM\" năm nay 23 tuổi!\n"
     ]
    }
   ],
   "source": [
    "from datetime import date\n",
    "\n",
    "# Tính tuổi\n",
    "fullName = input('Nhập họ và tên: ')\n",
    "birthYear = int(input('Nhập nhập năm sinh: '))\n",
    "age = date.today().year - birthYear\n",
    "\n",
    "print('\\nBạn \"{}\" năm nay {} tuổi!'.format(fullName.upper(), str(age)))"
   ]
  },
  {
   "cell_type": "code",
   "execution_count": 27,
   "id": "cee5552e",
   "metadata": {},
   "outputs": [
    {
     "name": "stdout",
     "output_type": "stream",
     "text": [
      "Nhập số tháng: 2\n",
      "\n",
      "Sau 2 trong rừng sẽ có 8 con thỏ\n"
     ]
    }
   ],
   "source": [
    "# Tính số thỏ sau x tháng\n",
    "\n",
    "rabbits = 2\n",
    "month = int(input('Nhập số tháng: '))\n",
    "\n",
    "print('\\nSau {} trong rừng sẽ có {} con thỏ'.format(str(month), str(rabbits ** (month + 1))))"
   ]
  },
  {
   "cell_type": "code",
   "execution_count": 62,
   "id": "17ff493b",
   "metadata": {},
   "outputs": [
    {
     "name": "stdout",
     "output_type": "stream",
     "text": [
      "“Nước Việt Nam là một, dân tộc Việt Nam là một. Sông có thể cạn núi có thể mòn, song chân lý ấy không bao giờ thay đổi. (HỒ CHÍ MINH, 1890 – 1969)” \n",
      "\n",
      "\n",
      "Số ký tự có trong đoạn văn:  147\n",
      "\n",
      "Đoạn văn có chứa \"hồ chí minh\" không? True\n",
      "\n",
      "Đoạn văn có chứa \"non sông\" không? False\n",
      "\n",
      "Tách đoạn văn thành các câu: \n",
      " ['“Nước Việt Nam là một, dân tộc Việt Nam là một', ' Sông có thể cạn núi có thể mòn, song chân lý ấy không bao giờ thay đổi', ' (HỒ CHÍ MINH, 1890 – 1969)”']\n",
      "\n",
      "Đoạn văn trên có chứa ký tự nào khác ký tự số và số không?  False\n",
      "\n",
      "Thay thế các từ \"Việt Nam\" bằng \"VIỆT NAM\" trong đoạn văn trên\n",
      "\n",
      "“Nước VIỆT NAM là một, dân tộc VIỆT NAM là một. Sông có thể cạn núi có thể mòn, song chân lý ấy không bao giờ thay đổi. (HỒ CHÍ MINH, 1890 – 1969)”\n"
     ]
    }
   ],
   "source": [
    "# Chuỗi văn bản\n",
    "str = '“Nước Việt Nam là một, dân tộc Việt Nam là một. Sông có thể cạn núi có thể mòn, song chân lý ấy không bao giờ thay đổi. (HỒ CHÍ MINH, 1890 – 1969)”'\n",
    "print(str, '\\n')\n",
    "subStr1 = 'hồ chí minh'\n",
    "subStr2 = 'non sông'\n",
    "print('\\nSố ký tự có trong đoạn văn: ', len(str))\n",
    "print('\\nĐoạn văn có chứa \"{}\" không? {}'.format(subStr1, subStr1.lower() in str.lower() ))\n",
    "print('\\nĐoạn văn có chứa \"{}\" không? {}'.format(subStr2, subStr2.lower() in str.lower() ))\n",
    "print('\\nTách đoạn văn thành các câu: \\n', str.split('.'))\n",
    "print('\\nĐoạn văn trên có chứa ký tự nào khác ký tự số và số không? ', str.isalnum())\n",
    "print('\\nThay thế các từ \"Việt Nam\" bằng \"VIỆT NAM\" trong đoạn văn trên\\n')\n",
    "print(str.replace('Việt Nam', 'VIỆT NAM'))"
   ]
  },
  {
   "cell_type": "code",
   "execution_count": 69,
   "id": "a2362f5d",
   "metadata": {},
   "outputs": [
    {
     "name": "stdout",
     "output_type": "stream",
     "text": [
      "str1:  Python For Machine Learning!.\n",
      "str2:  PYTHON-FOR-MACHINE-LEARNING\n"
     ]
    }
   ],
   "source": [
    "# Chuẩn hóa chuỗi\n",
    "str = '      python FOR Machine LearNiNg          '\n",
    "str1 = str.strip().title() + '!.'\n",
    "str2 = str.strip().upper().replace(' ', '-')\n",
    "print('str1: ', str1)\n",
    "print('str2: ', str2)"
   ]
  },
  {
   "cell_type": "code",
   "execution_count": 73,
   "id": "7d57953d",
   "metadata": {},
   "outputs": [
    {
     "name": "stdout",
     "output_type": "stream",
     "text": [
      "['C', 'B', 'D', 'A', 'F', 'A', 'B', 'F', 'B', 'B', 'C', 'A', 'D', 'F', 'B'] \n",
      "\n",
      "---------------- THỐNG KÊ ----------------\n",
      "1. Tổng số học sinh trong lớp:  15\n",
      "2. Số học sinh phải học lại:  3\n",
      "3. Số học sinh có điểm từ điểm B trở lên:  8\n",
      "4. Bảng điểm mới:  ['B', 'D', 'A', 'F', 'A', 'B', 'F', 'B', 'B', 'C', 'A', 'D', 'F']\n"
     ]
    }
   ],
   "source": [
    "# Thống kê điểm học viên\n",
    "\n",
    "scores = ['C', 'B', 'D' ,'A' ,'F', 'A', 'B', 'F' , 'B', 'B', 'C', 'A', 'D', 'F', 'B']\n",
    "\n",
    "print(scores, '\\n')\n",
    "\n",
    "print('---------------- THỐNG KÊ ----------------')\n",
    "\n",
    "print('1. Tổng số học sinh trong lớp: ', len(scores))\n",
    "print('2. Số học sinh phải học lại: ', scores.count('F'))\n",
    "print('3. Số học sinh có điểm từ điểm B trở lên: ', scores.count('B') + scores.count('A'))\n",
    "\n",
    "newScores = scores\n",
    "del newScores[0]\n",
    "del newScores[-1]\n",
    "\n",
    "print('4. Bảng điểm mới: ', newScores)"
   ]
  },
  {
   "cell_type": "code",
   "execution_count": null,
   "id": "17413ba6",
   "metadata": {},
   "outputs": [],
   "source": []
  }
 ],
 "metadata": {
  "kernelspec": {
   "display_name": "Python 3 (ipykernel)",
   "language": "python",
   "name": "python3"
  },
  "language_info": {
   "codemirror_mode": {
    "name": "ipython",
    "version": 3
   },
   "file_extension": ".py",
   "mimetype": "text/x-python",
   "name": "python",
   "nbconvert_exporter": "python",
   "pygments_lexer": "ipython3",
   "version": "3.11.5"
  }
 },
 "nbformat": 4,
 "nbformat_minor": 5
}
