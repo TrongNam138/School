{
 "cells": [
  {
   "cell_type": "code",
   "execution_count": 9,
   "id": "c758d083",
   "metadata": {},
   "outputs": [
    {
     "name": "stdout",
     "output_type": "stream",
     "text": [
      "Nhập vào 1 chữ cái: b\n",
      "Đây là phụ âm!\n"
     ]
    }
   ],
   "source": [
    "# Xác định phụ âm nguyên âm\n",
    "\n",
    "vowels = ['U', 'E', 'A', 'I']\n",
    "\n",
    "letter = input('Nhập vào 1 chữ cái: ').upper()\n",
    "\n",
    "if(letter in vowels):\n",
    "    print('Đây là nguyên âm!')\n",
    "else: \n",
    "    print('Đây là phụ âm!')\n"
   ]
  },
  {
   "cell_type": "code",
   "execution_count": 4,
   "id": "1769a738",
   "metadata": {},
   "outputs": [
    {
     "name": "stdout",
     "output_type": "stream",
     "text": [
      "Nhập cân nặng (Kg): 65\n",
      "Nhập chiều cao (M): 1.7\n",
      "Chào người đẹp!\n"
     ]
    }
   ],
   "source": [
    "# Tính chỉ số BMI\n",
    "\n",
    "weight = float(input('Nhập cân nặng (Kg): '))\n",
    "height = float(input('Nhập chiều cao (M): '))\n",
    "\n",
    "BMI = weight / (height ** 2)\n",
    "\n",
    "if(BMI < 18.5):\n",
    "    print('Bạn hơi gầy rồi đó!')\n",
    "elif(BMI < 24.9):\n",
    "    print('Chào người đẹp!')\n",
    "elif(BMI < 29.9):\n",
    "    print('Hơi péo rồi nha!')\n",
    "else:\n",
    "    print('Péo quá rồi, giảm cân thôi!')"
   ]
  },
  {
   "cell_type": "code",
   "execution_count": 14,
   "id": "d704e14d",
   "metadata": {},
   "outputs": [
    {
     "name": "stdout",
     "output_type": "stream",
     "text": [
      "Nhập tháng sinh của bạn: 8\n",
      "Bạn sinh vào mùa thu\n"
     ]
    }
   ],
   "source": [
    "# Xác định mùa trong năm\n",
    "month = int(input('Nhập tháng sinh của bạn: '))\n",
    "\n",
    "if(month < 1 or month > 12):\n",
    "    print('Tháng sinh nhập vào không đúng')\n",
    "else:\n",
    "    if(month <= 3):\n",
    "        print('Bạn sinh vào mùa xuân')\n",
    "    elif(month <= 6):\n",
    "        print('Bạn sinh vào mùa hạ')\n",
    "    elif(month <= 9):\n",
    "        print('Bạn sinh vào mùa thu')\n",
    "    else:\n",
    "        print('Bạn sinh vào mùa đông')"
   ]
  },
  {
   "cell_type": "code",
   "execution_count": 27,
   "id": "45df724b",
   "metadata": {},
   "outputs": [
    {
     "name": "stdout",
     "output_type": "stream",
     "text": [
      "Nhập vào bảng cửu chương bạn muốn hiển thị [1 - 10]: 9\n",
      "\n",
      "BẢNG CỬU CHƯƠNG  9 :\n",
      "\n",
      "9 x 1 = 9\n",
      "9 x 2 = 18\n",
      "9 x 3 = 27\n",
      "9 x 4 = 36\n",
      "9 x 5 = 45\n",
      "9 x 6 = 54\n",
      "9 x 7 = 63\n",
      "9 x 8 = 72\n",
      "9 x 9 = 81\n",
      "9 x 10 = 90\n"
     ]
    }
   ],
   "source": [
    "# Hiển thị bảng cửu chương\n",
    "\n",
    "m = int(input('Nhập vào bảng cửu chương bạn muốn hiển thị [1 - 10]: '))\n",
    "\n",
    "while m < 1 or m > 10:\n",
    "    m = int(input('Nhập sai, vui lòng nhập số từ 1 đến 10: '))\n",
    "\n",
    "print('\\nBẢNG CỬU CHƯƠNG ', m, ':\\n')\n",
    "\n",
    "for i in range(1, 11):\n",
    "    print('{} x {} = {}'.format(m, i, m * i))\n"
   ]
  },
  {
   "cell_type": "code",
   "execution_count": 33,
   "id": "823a09d2",
   "metadata": {},
   "outputs": [
    {
     "name": "stdout",
     "output_type": "stream",
     "text": [
      "Điểm hệ 10:          [8.4, 6.5, 7.3, 2.6, 9.0, 5.8, 6.0, 9.7, 8.1]\n",
      "Điểm hệ 4:           [3.5, 2.5, 3.0, 0, 4.0, 2.0, 2.0, 4.0, 3.5]\n",
      "Điểm chữ tương ứng:  ['B+', 'C+', 'B', 'F', 'A+', 'C', 'C', 'A+', 'B+']\n",
      "\n",
      "----------- ĐIỂM TRUNG BÌNH -----------\n",
      "Tổng số môn học:  9\n",
      "ĐTB hệ 10:  7.044444444444444\n",
      "ĐTB hệ 4:  2.7222222222222223\n"
     ]
    }
   ],
   "source": [
    "h10 = [8.4, 6.5, 7.3, 2.6, 9.0, 5.8, 6.0, 9.7, 8.1]\n",
    "h4 = []\n",
    "h4c = []\n",
    "\n",
    "for d in h10:\n",
    "    if d >= 9:\n",
    "        h4.append(4.0)\n",
    "        h4c.append('A+')\n",
    "    elif d >= 8.5:\n",
    "        h4.append(3.7)\n",
    "        h4c.append('A')\n",
    "    elif d >= 8.0:\n",
    "        h4.append(3.5)\n",
    "        h4c.append('B+')\n",
    "    elif d >= 7.0:\n",
    "        h4.append(3.0)\n",
    "        h4c.append('B')\n",
    "    elif d >= 6.5:\n",
    "        h4.append(2.5)\n",
    "        h4c.append('C+')\n",
    "    elif d >= 5.5:\n",
    "        h4.append(2.0)\n",
    "        h4c.append('C')\n",
    "    elif d >= 5.0:\n",
    "        h4.append(1.5)\n",
    "        h4c.append('D+')\n",
    "    elif d >= 4.0:\n",
    "        h4c.append('D')\n",
    "        h4.append(1.0)\n",
    "    else:\n",
    "        h4.append(0)\n",
    "        h4c.append('F')\n",
    "\n",
    "print('Điểm hệ 10:         ', h10)\n",
    "print('Điểm hệ 4:          ', h4)\n",
    "print('Điểm chữ tương ứng: ', h4c)\n",
    "print('\\n----------- ĐIỂM TRUNG BÌNH -----------')\n",
    "print('Tổng số môn học: ', len(h10))\n",
    "print('ĐTB hệ 10: ', sum(h10) / len(h10))\n",
    "print('ĐTB hệ 4: ', sum(h4) / len(h4))"
   ]
  },
  {
   "cell_type": "code",
   "execution_count": 48,
   "id": "23c50e83",
   "metadata": {},
   "outputs": [
    {
     "name": "stdout",
     "output_type": "stream",
     "text": [
      "Nhập một số nguyên dương lớn hơn 1: 88\n",
      "Số 88 không phải là số nguyên tố\n"
     ]
    }
   ],
   "source": [
    "# Kiểm tra số nguyên số\n",
    "\n",
    "while True:\n",
    "    num = int(input('Nhập một số nguyên dương lớn hơn 1: '))\n",
    "    if num > 1:\n",
    "        break\n",
    "\n",
    "isPrime = True\n",
    "\n",
    "for i in range(2, num):\n",
    "    if (num % i) == 0:\n",
    "        isPrime = False\n",
    "        break\n",
    "\n",
    "if isPrime:\n",
    "    print('Số', num, \"là số nguyên tố\")\n",
    "else:\n",
    "    print('Số', num, \"không phải là số nguyên tố\")"
   ]
  },
  {
   "cell_type": "code",
   "execution_count": 49,
   "id": "796399f2",
   "metadata": {},
   "outputs": [
    {
     "name": "stdout",
     "output_type": "stream",
     "text": [
      "Nhập một số nguyên dương lớn hơn 1: 100\n",
      "Các số nguyên tố từ 1 đến 100: [2, 3, 5, 7, 11, 13, 17, 19, 23, 29, 31, 37, 41, 43, 47, 53, 59, 61, 67, 71, 73, 79, 83, 89, 97]\n"
     ]
    }
   ],
   "source": [
    "# Dãy số nguyên tố\n",
    "\n",
    "pns = []\n",
    "\n",
    "while True:\n",
    "    n = int(input('Nhập một số nguyên dương lớn hơn 1: '))\n",
    "    if n > 1:\n",
    "        break\n",
    "\n",
    "for i in range(2, n + 1):\n",
    "    isPrime = True\n",
    "    \n",
    "    for j in range(2, i):\n",
    "        if (i % j) == 0:\n",
    "            isPrime = False\n",
    "            break\n",
    "    \n",
    "    if isPrime:\n",
    "        pns.append(i)\n",
    "\n",
    "print('Các số nguyên tố từ 1 đến {}: {}'.format(n, pns))\n",
    "\n"
   ]
  },
  {
   "cell_type": "code",
   "execution_count": 13,
   "id": "e1d165bd",
   "metadata": {},
   "outputs": [
    {
     "name": "stdout",
     "output_type": "stream",
     "text": [
      "Nhập một số nguyên dương: 20\n",
      "1 (hệ 10) = 10100 (hệ 2)\n"
     ]
    }
   ],
   "source": [
    "# Đổi số từ hệ thập phân sang nhị phân\n",
    "\n",
    "binary = ''\n",
    "\n",
    "while True:\n",
    "    decimal = int(input('Nhập một số nguyên dương: '))\n",
    "    if decimal > 1:\n",
    "        break\n",
    "        \n",
    "while True:\n",
    "    \n",
    "    if decimal % 2 == 0: \n",
    "        binary = '0' + binary\n",
    "    else: \n",
    "        binary = '1' + binary\n",
    "    \n",
    "    if(decimal == 1):\n",
    "        break\n",
    "        \n",
    "    decimal = int(decimal / 2)\n",
    "    \n",
    "print('{} (hệ 10) = {} (hệ 2)'.format(decimal, binary))"
   ]
  },
  {
   "cell_type": "code",
   "execution_count": null,
   "id": "7641d10d",
   "metadata": {},
   "outputs": [],
   "source": []
  }
 ],
 "metadata": {
  "kernelspec": {
   "display_name": "Python 3 (ipykernel)",
   "language": "python",
   "name": "python3"
  },
  "language_info": {
   "codemirror_mode": {
    "name": "ipython",
    "version": 3
   },
   "file_extension": ".py",
   "mimetype": "text/x-python",
   "name": "python",
   "nbconvert_exporter": "python",
   "pygments_lexer": "ipython3",
   "version": "3.11.5"
  }
 },
 "nbformat": 4,
 "nbformat_minor": 5
}
